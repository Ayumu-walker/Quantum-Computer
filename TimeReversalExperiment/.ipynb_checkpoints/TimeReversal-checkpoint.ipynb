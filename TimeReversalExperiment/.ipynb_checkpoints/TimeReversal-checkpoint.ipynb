{
 "cells": [
  {
   "cell_type": "code",
   "execution_count": 1,
   "metadata": {},
   "outputs": [],
   "source": [
    "%matplotlib inline\n",
    "# Importing standard Qiskit libraries and configuring account\n",
    "from qiskit import QuantumCircuit, QuantumRegister, ClassicalRegister, execute, Aer, IBMQ\n",
    "from qiskit.compiler import transpile, assemble\n",
    "from qiskit.tools.jupyter import *\n",
    "from qiskit.visualization import *\n",
    "import math\n",
    "import numpy as np\n",
    "import sympy as sym\n",
    "# Loading your IBM Q account(s)\n",
    "#IBMQ.save_account('XXXX','https://quantum-computing.ibm.com/')\n",
    "#IBMQ.update_account()\n",
    "provider = IBMQ.load_account()\n"
   ]
  },
  {
   "cell_type": "code",
   "execution_count": 3,
   "metadata": {},
   "outputs": [],
   "source": [
    "# setting Pauli Operators\n",
    "i=sym.I\n",
    "X = sym.Matrix([\n",
    "    [0, 1],\n",
    "    [1, 0]\n",
    "])\n",
    "Z = sym.Matrix([\n",
    "    [1, 0],\n",
    "    [0, -1]\n",
    "])"
   ]
  },
  {
   "cell_type": "code",
   "execution_count": 37,
   "metadata": {},
   "outputs": [],
   "source": [
    "def TimeEvolution(qubits,omega_tau,alpha):\n",
    "    H = -1*i*(Z*sym.cos(alpha)*omega_tau + X*sym.sin(alpha)*omega_tau)\n",
    "    expH = H.exp()\n",
    "    re = sym.re(H.exp())\n",
    "    im = sym.im(H.exp())\n",
    "    \n",
    "    theta =np.arccos(float( sym.sqrt( re[0,0]**2 + im[0,0]**2 )))*2\n",
    "    xi = np.arcsin(float( -1*im[0,0] /  sym.sqrt( re[0,0]**2 + im[0,0]**2 ) )) - np.pi/2\n",
    "    \n",
    "    qubits.u3(theta,xi,xi+np.pi,1) # This Operator is symmetry.\n",
    "       \n",
    "    return qubits"
   ]
  },
  {
   "cell_type": "code",
   "execution_count": 38,
   "metadata": {},
   "outputs": [],
   "source": [
    "# 2 Qubits Scattaring Process\n",
    "def TwoQubitsScattaringOperation(qubits):\n",
    "    qubits.u3(2*np.pi/3,0,np.pi,0) # Apply U3 on qubit 0\n",
    "    qubits.u1(1.761,0) # Apply U1 on qubit 0\n",
    "    qubits.cx(1,0)\n",
    "    qubits.u3(-0.723,0,-0.523,0)\n",
    "    qubits.u1(1.047,1)\n",
    "    qubits.cx(1,0)\n",
    "    qubits.u3(0.723,-1.27,0,0)\n",
    "    return qubits"
   ]
  },
  {
   "cell_type": "code",
   "execution_count": 39,
   "metadata": {},
   "outputs": [],
   "source": [
    "def TimeForwardingProcess(qubits):\n",
    "    qubits = TimeEvolution(qubits,omega_tau,alpha)\n",
    "    qubits = TwoQubitsScattaringOperation(qubits)\n",
    "    qubits = TimeEvolution(qubits,omega_tau,alpha)\n",
    "    return qubits"
   ]
  },
  {
   "cell_type": "code",
   "execution_count": 40,
   "metadata": {},
   "outputs": [],
   "source": [
    "def CalculationPhase(real_part,imaginary_part):\n",
    "    length = np.sqrt(real_part**2 + imaginary_part**2)\n",
    "    #real_norm =  real_part / length\n",
    "    imaginary_norm = imaginary_part / length\n",
    "    if real_part >= 0  :\n",
    "        Rad = np.arcsin(imaginary_norm)\n",
    "    elif real_part < 0 and imaginary_part >=0 :\n",
    "        Rad = np.pi - np.arcsin(imaginary_norm)  \n",
    "    elif real_part < 0 and imaginary_part < 0 :\n",
    "        Rad = -np.pi - np.arcsin(imaginary_norm)\n",
    "    return Rad"
   ]
  },
  {
   "cell_type": "code",
   "execution_count": 41,
   "metadata": {},
   "outputs": [],
   "source": [
    "def TimeReversalOperation(qubits):\n",
    "    # Select the StatevectorSimulator from the Aer provider\n",
    "    simulator = Aer.get_backend('statevector_simulator')\n",
    "    # Execute and get counts\n",
    "    \n",
    "    result = execute(qubits , simulator).result()\n",
    "    statevector = result.get_statevector(qubits,decimals=3)\n",
    "    #plot_state_city(statevector, title='Measurement Phase')\n",
    "    #statevector\n",
    "    \n",
    "    phase00 = CalculationPhase(np.real(statevector[0]) , np.imag(statevector[0]) )\n",
    "    phase10 = CalculationPhase(np.real(statevector[1]) , np.imag(statevector[1]) )\n",
    "    phase01 = CalculationPhase(np.real(statevector[2]) , np.imag(statevector[2]) )\n",
    "    phase11 = CalculationPhase(np.real(statevector[3]) , np.imag(statevector[3]) )\n",
    "\n",
    "#     print(phase00,phase01,phase10,phase11)\n",
    "#     print(-phase01-phase00)\n",
    "#     print(-phase10-phase00)\n",
    "#     print(-phase01-phase11)\n",
    "#     print(-phase10-phase11)\n",
    "#     print(phase00+phase11)\n",
    "#     print(phase01+phase10)\n",
    "    \n",
    "    qubits.x(0)\n",
    "    qubits.x(1)\n",
    "    qubits.u1(-phase10-phase00 ,1)\n",
    "    qubits.u1(-phase01-phase00 ,0)\n",
    "    qubits.x(0)\n",
    "    qubits.x(1)\n",
    "    qubits.u1(-phase01-phase11 ,1)\n",
    "    qubits.u1(-phase10-phase11 ,0)\n",
    "    qubits.cx(1,0)\n",
    "    qubits.x(0)\n",
    "    qubits.u1(phase01+phase10,0)\n",
    "    qubits.x(0)\n",
    "    qubits.u1(phase00+phase11,0)\n",
    "    qubits.cx(1,0)\n",
    "    \n",
    "    return qubits"
   ]
  },
  {
   "cell_type": "code",
   "execution_count": 55,
   "metadata": {},
   "outputs": [
    {
     "name": "stdout",
     "output_type": "stream",
     "text": [
      "|00> : 99.976 %\n",
      "|01> : 0.016 %\n",
      "|10> : 0.005 %\n",
      "|11> : 0.003 %\n"
     ]
    },
    {
     "data": {
      "image/png": "[encoded data removed]",
      "text/plain": [
       "<Figure size 1661.52x445.48 with 1 Axes>"
      ]
     },
     "execution_count": 55,
     "metadata": {},
     "output_type": "execute_result"
    }
   ],
   "source": [
    "# Experiment\n",
    "\n",
    "# Initialize\n",
    "qr = QuantumRegister(2,'q')\n",
    "cr = ClassicalRegister(2,'c')\n",
    "circ = QuantumCircuit(qr,cr)\n",
    "#circ.h(0)\n",
    "#circ.draw()\n",
    "\n",
    "# setting parameters\n",
    "omega_tau=sym.pi/6\n",
    "alpha = sym.pi/2\n",
    "\n",
    "# Operations\n",
    "circ = TimeForwardingProcess(circ)\n",
    "circ = TimeReversalOperation(circ)\n",
    "circ = TimeForwardingProcess(circ)\n",
    "\n",
    "\n",
    "# Select the StatevectorSimulator from the Aer provider\n",
    "simulator = Aer.get_backend('statevector_simulator')\n",
    "# Execute and get counts\n",
    "result = execute(circ , simulator).result()\n",
    "statevector = result.get_statevector(circ)\n",
    "#plot_state_city(statevector, title='Result')\n",
    "#print(np.abs(statevector) )\n",
    "\n",
    "print('|00> : {0:2.3f} %'.format(np.abs(statevector[0])**2*100))\n",
    "print('|01> : {0:2.3f} %'.format(np.abs(statevector[1])**2*100))\n",
    "print('|10> : {0:2.3f} %'.format(np.abs(statevector[2])**2*100))\n",
    "print('|11> : {0:2.3f} %'.format(np.abs(statevector[3])**2*100))\n",
    "\n",
    "\n",
    "circ.draw(output='mpl')"
   ]
  },
  {
   "cell_type": "code",
   "execution_count": null,
   "metadata": {},
   "outputs": [],
   "source": []
  },
  {
   "cell_type": "code",
   "execution_count": null,
   "metadata": {},
   "outputs": [],
   "source": []
  },
  {
   "cell_type": "code",
   "execution_count": null,
   "metadata": {},
   "outputs": [],
   "source": []
  },
  {
   "cell_type": "code",
   "execution_count": null,
   "metadata": {},
   "outputs": [],
   "source": []
  },
  {
   "cell_type": "code",
   "execution_count": null,
   "metadata": {},
   "outputs": [],
   "source": []
  },
  {
   "cell_type": "code",
   "execution_count": null,
   "metadata": {},
   "outputs": [],
   "source": []
  },
  {
   "cell_type": "code",
   "execution_count": null,
   "metadata": {},
   "outputs": [],
   "source": []
  },
  {
   "cell_type": "code",
   "execution_count": null,
   "metadata": {},
   "outputs": [],
   "source": []
  },
  {
   "cell_type": "code",
   "execution_count": null,
   "metadata": {},
   "outputs": [],
   "source": []
  },
  {
   "cell_type": "code",
   "execution_count": null,
   "metadata": {},
   "outputs": [],
   "source": []
  },
  {
   "cell_type": "code",
   "execution_count": null,
   "metadata": {},
   "outputs": [],
   "source": []
  },
  {
   "cell_type": "code",
   "execution_count": null,
   "metadata": {},
   "outputs": [],
   "source": []
  },
  {
   "cell_type": "code",
   "execution_count": null,
   "metadata": {},
   "outputs": [],
   "source": []
  },
  {
   "cell_type": "code",
   "execution_count": null,
   "metadata": {},
   "outputs": [],
   "source": []
  },
  {
   "cell_type": "code",
   "execution_count": null,
   "metadata": {},
   "outputs": [],
   "source": []
  },
  {
   "cell_type": "code",
   "execution_count": null,
   "metadata": {},
   "outputs": [],
   "source": []
  },
  {
   "cell_type": "code",
   "execution_count": null,
   "metadata": {},
   "outputs": [],
   "source": []
  },
  {
   "cell_type": "code",
   "execution_count": null,
   "metadata": {},
   "outputs": [],
   "source": []
  },
  {
   "cell_type": "code",
   "execution_count": null,
   "metadata": {},
   "outputs": [],
   "source": []
  },
  {
   "cell_type": "code",
   "execution_count": null,
   "metadata": {},
   "outputs": [],
   "source": []
  },
  {
   "cell_type": "code",
   "execution_count": null,
   "metadata": {},
   "outputs": [],
   "source": []
  },
  {
   "cell_type": "code",
   "execution_count": null,
   "metadata": {},
   "outputs": [],
   "source": []
  },
  {
   "cell_type": "code",
   "execution_count": null,
   "metadata": {},
   "outputs": [],
   "source": []
  },
  {
   "cell_type": "code",
   "execution_count": null,
   "metadata": {},
   "outputs": [],
   "source": []
  },
  {
   "cell_type": "code",
   "execution_count": null,
   "metadata": {},
   "outputs": [],
   "source": []
  },
  {
   "cell_type": "code",
   "execution_count": null,
   "metadata": {},
   "outputs": [],
   "source": []
  },
  {
   "cell_type": "code",
   "execution_count": null,
   "metadata": {},
   "outputs": [],
   "source": []
  },
  {
   "cell_type": "code",
   "execution_count": null,
   "metadata": {},
   "outputs": [],
   "source": []
  },
  {
   "cell_type": "code",
   "execution_count": null,
   "metadata": {},
   "outputs": [],
   "source": []
  }
 ],
 "metadata": {
  "kernelspec": {
   "display_name": "Python 3",
   "language": "python",
   "name": "python3"
  },
  "language_info": {
   "codemirror_mode": {
    "name": "ipython",
    "version": 3
   },
   "file_extension": ".py",
   "mimetype": "text/x-python",
   "name": "python",
   "nbconvert_exporter": "python",
   "pygments_lexer": "ipython3",
   "version": "3.7.3"
  }
 },
 "nbformat": 4,
 "nbformat_minor": 2
}
